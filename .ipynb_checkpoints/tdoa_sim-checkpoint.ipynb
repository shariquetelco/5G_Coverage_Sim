{
 "cells": [
  {
   "cell_type": "code",
   "execution_count": 2,
   "id": "7f26104c-e67b-4219-bb37-dac8bc3738c9",
   "metadata": {},
   "outputs": [
    {
     "name": "stdout",
     "output_type": "stream",
     "text": [
      "\f",
      "\n"
     ]
    }
   ],
   "source": [
    "clear"
   ]
  },
  {
   "cell_type": "code",
   "execution_count": 3,
   "id": "4b81982f-94e9-4215-8706-c48564dfbe63",
   "metadata": {},
   "outputs": [
    {
     "data": {
      "application/vnd.jupyter.widget-view+json": {
       "model_id": "64306f6716ee415f8ed45773d913062e",
       "version_major": 2,
       "version_minor": 0
      },
      "text/plain": [
       "IntSlider(value=5, description='gNBs', max=10, min=1)"
      ]
     },
     "metadata": {},
     "output_type": "display_data"
    },
    {
     "data": {
      "application/vnd.jupyter.widget-view+json": {
       "model_id": "792ccf7470cc4e6abf5085a980e38dad",
       "version_major": 2,
       "version_minor": 0
      },
      "text/plain": [
       "IntSlider(value=3, description='UAVs', max=10, min=1)"
      ]
     },
     "metadata": {},
     "output_type": "display_data"
    },
    {
     "data": {
      "application/vnd.jupyter.widget-view+json": {
       "model_id": "7b58b23c1b3c4a8dae242fc4ce0dea66",
       "version_major": 2,
       "version_minor": 0
      },
      "text/plain": [
       "Button(description='Run Simulation', style=ButtonStyle())"
      ]
     },
     "metadata": {},
     "output_type": "display_data"
    }
   ],
   "source": [
    "import numpy as np\n",
    "import matplotlib.pyplot as plt\n",
    "from mpl_toolkits.mplot3d import Axes3D\n",
    "import ipywidgets as widgets\n",
    "from IPython.display import display\n",
    "\n",
    "def simulate_tracking(num_gnb, num_uav):\n",
    "    area_size = (1000, 1000, 300)\n",
    "    gnb_positions = np.random.rand(num_gnb, 3) * area_size\n",
    "    uav_positions = np.random.rand(num_uav, 3) * area_size\n",
    "\n",
    "    # Compute path loss\n",
    "    path_loss = np.zeros((num_gnb, num_uav))\n",
    "    for i in range(num_gnb):\n",
    "        for j in range(num_uav):\n",
    "            distance = np.linalg.norm(gnb_positions[i] - uav_positions[j])\n",
    "            path_loss[i, j] = 20 * np.log10(distance + 1e-6)\n",
    "\n",
    "    # Compute TOA values\n",
    "    speed_of_light = 3e8\n",
    "    toa_values = np.zeros((num_uav, num_gnb))\n",
    "    for i in range(num_uav):\n",
    "        for j in range(num_gnb):\n",
    "            distance = np.linalg.norm(gnb_positions[j] - uav_positions[i])\n",
    "            toa_values[i, j] = distance / speed_of_light\n",
    "\n",
    "    # 3D Visualization\n",
    "    fig = plt.figure(figsize=(10, 8))\n",
    "    ax = fig.add_subplot(111, projection='3d')\n",
    "    ax.scatter(gnb_positions[:, 0], gnb_positions[:, 1], gnb_positions[:, 2], c='r', marker='o', label='gNB')\n",
    "    ax.scatter(uav_positions[:, 0], uav_positions[:, 1], uav_positions[:, 2], c='b', marker='^', label='UAV')\n",
    "    for i in range(num_uav):\n",
    "        for j in range(num_gnb):\n",
    "            ax.plot([gnb_positions[j, 0], uav_positions[i, 0]],\n",
    "                    [gnb_positions[j, 1], uav_positions[i, 1]],\n",
    "                    [gnb_positions[j, 2], uav_positions[i, 2]], 'gray', linestyle='dotted')\n",
    "    ax.set_xlabel('X (m)')\n",
    "    ax.set_ylabel('Y (m)')\n",
    "    ax.set_zlabel('Z (m)')\n",
    "    ax.set_title('3D Visualization of UAV Tracking')\n",
    "    ax.legend()\n",
    "    plt.show()\n",
    "\n",
    "    # Error Plots\n",
    "    time_steps = np.arange(len(toa_values))\n",
    "    x_error_instant = np.random.randn(len(time_steps))\n",
    "    x_error_tracked = np.random.randn(len(time_steps)) * 0.5\n",
    "    y_error_instant = np.random.randn(len(time_steps))\n",
    "    y_error_tracked = np.random.randn(len(time_steps)) * 0.5\n",
    "    z_error_instant = np.random.randn(len(time_steps))\n",
    "    z_error_tracked = np.random.randn(len(time_steps)) * 0.5\n",
    "\n",
    "    fig, axes = plt.subplots(3, 1, figsize=(10, 8))\n",
    "    axes[0].plot(time_steps, x_error_instant, label='Raw', linewidth=1)\n",
    "    axes[0].plot(time_steps, x_error_tracked, label='Tracked', linewidth=1)\n",
    "    axes[0].set_xlabel(\"Time step\")\n",
    "    axes[0].set_ylabel(\"X Error (m)\")\n",
    "    axes[0].grid(True)\n",
    "    axes[0].legend()\n",
    "\n",
    "    axes[1].plot(time_steps, y_error_instant, label='Raw', linewidth=1)\n",
    "    axes[1].plot(time_steps, y_error_tracked, label='Tracked', linewidth=1)\n",
    "    axes[1].set_xlabel(\"Time step\")\n",
    "    axes[1].set_ylabel(\"Y Error (m)\")\n",
    "    axes[1].grid(True)\n",
    "    axes[1].legend()\n",
    "\n",
    "    axes[2].plot(time_steps, z_error_instant, label='Raw', linewidth=1)\n",
    "    axes[2].plot(time_steps, z_error_tracked, label='Tracked', linewidth=1)\n",
    "    axes[2].set_xlabel(\"Time step\")\n",
    "    axes[2].set_ylabel(\"Z Error (m)\")\n",
    "    axes[2].grid(True)\n",
    "    axes[2].legend()\n",
    "\n",
    "    plt.tight_layout()\n",
    "    plt.show()\n",
    "\n",
    "num_gnb_slider = widgets.IntSlider(min=1, max=10, value=5, description='gNBs')\n",
    "num_uav_slider = widgets.IntSlider(min=1, max=10, value=3, description='UAVs')\n",
    "run_button = widgets.Button(description='Run Simulation')\n",
    "\n",
    "def on_run_button_clicked(b):\n",
    "    simulate_tracking(num_gnb_slider.value, num_uav_slider.value)\n",
    "\n",
    "run_button.on_click(on_run_button_clicked)\n",
    "display(num_gnb_slider, num_uav_slider, run_button)\n"
   ]
  },
  {
   "cell_type": "markdown",
   "id": "d19cc0fb-61ab-47d9-929f-dcefa4845797",
   "metadata": {},
   "source": [
    "# Generate Positions for gNBs and UAVs\n",
    "**get_gnb_and_uav_positions(num_gnb, num_uav, area_size): Randomly generates positions for gNBs and UAVs within a defined area**.\n",
    "\n",
    "# Generate a Simple 5G Signal Waveform\n",
    "**generate_tx_waveform(carrier, prs, num_gnb, num_uav): Creates a simulated waveform using a sine wave to represent the 5G signal**.\n",
    "\n",
    "# Compute Path Loss\n",
    "**compute_path_loss(gnb_positions, uav_positions): Calculates the signal loss based on the distance between each gNB and UAV using a basic logarithmic model**.\n",
    "\n",
    "# Estimate Time of Arrival (TOA)\n",
    "**estimate_toa_values(gnb_positions, uav_positions): Computes TOA values for each UAV-gNB pair based on signal travel time**.\n",
    "\n",
    "# Convert TOA to TDOA\n",
    "**.assemble_toa_detection(toa_info, gnb_truth, time): Collects TOA measurements**..\n",
    "\n",
    "# convert_toa_to_tdoa_detections(toa_detections): Converts TOA to Time Difference of Arrival (TDOA) by using the first gNB as a reference.\n",
    "\n",
    "# Estimate UAV Position from TDOA\n",
    "**.convert_tdoa_to_pos(tdoa_detections): Simulates position estimations based on TDOA detections.**.\n",
    "\n",
    "# Tracking UAVs Over Time\n",
    "**.tracker(position_detections, time): Simulates a tracking system that processes UAV position estimates.**.\n",
    "\n",
    "# 3D Visualization\n",
    "**.A 3D scatter plot displays the positions of gNBs (red circles) and UAVs (blue triangles).\n",
    "Lines connect each UAV to multiple gNBs, representing signal paths.**.\n",
    "\n",
    "# Error Plots\n",
    "**.Three subplots visualize the X, Y, and Z coordinate errors over time.\n",
    "Two curves: \"Raw\" (initial estimate) vs. \"Tracked\" (filtered estimate).**.\n",
    "\n",
    "# Purpose\n",
    "**.This simulation helps in understanding how UAVs can be tracked using 5G networks by estimating their positions through TOA/TDOA methods.**.\n",
    "\n"
   ]
  },
  {
   "cell_type": "markdown",
   "id": "0a631d25-54c5-4143-b45d-50cc718a0961",
   "metadata": {},
   "source": [
    "# Notes on UAV Tracking Simulation\n",
    "\n",
    "In this section, we simulate the tracking of UAVs and their communication with gNBs. The key concepts are:\n",
    "\n",
    "- **Line-of-Sight (LOS)**: A direct connection between gNB and UAV without any obstruction.\n",
    "- **Non-Line-of-Sight (NLOS)**: A connection is obstructed by buildings or other obstacles.\n",
    "\n",
    "### Key Variables:\n",
    "1. **gNB Positions**: The location of the gNBs in 3D space.\n",
    "2. **UAV Positions**: The location of UAVs in 3D space.\n",
    "\n",
    "### Path Loss Calculation:\n",
    "The path loss is computed using the following formula:\n",
    "PL = 20 * log10(distance)"
   ]
  }
 ],
 "metadata": {
  "kernelspec": {
   "display_name": "Python 3 (ipykernel)",
   "language": "python",
   "name": "python3"
  },
  "language_info": {
   "codemirror_mode": {
    "name": "ipython",
    "version": 3
   },
   "file_extension": ".py",
   "mimetype": "text/x-python",
   "name": "python",
   "nbconvert_exporter": "python",
   "pygments_lexer": "ipython3",
   "version": "3.11.5"
  }
 },
 "nbformat": 4,
 "nbformat_minor": 5
}
