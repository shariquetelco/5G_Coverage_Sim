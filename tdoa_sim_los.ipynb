{
 "cells": [
  {
   "cell_type": "code",
   "execution_count": 1,
   "id": "0a76ae6e-f226-4473-80ca-b36ffb5272e3",
   "metadata": {},
   "outputs": [
    {
     "data": {
      "application/vnd.jupyter.widget-view+json": {
       "model_id": "fe7a2c85b54744419cc656bcc057748f",
       "version_major": 2,
       "version_minor": 0
      },
      "text/plain": [
       "IntSlider(value=5, description='gNBs', max=10, min=1)"
      ]
     },
     "metadata": {},
     "output_type": "display_data"
    },
    {
     "data": {
      "application/vnd.jupyter.widget-view+json": {
       "model_id": "be196a1b7b0645428ab8803c3096b3b9",
       "version_major": 2,
       "version_minor": 0
      },
      "text/plain": [
       "IntSlider(value=3, description='UAVs', max=10, min=1)"
      ]
     },
     "metadata": {},
     "output_type": "display_data"
    },
    {
     "data": {
      "application/vnd.jupyter.widget-view+json": {
       "model_id": "195567050a574c45be17255e7c19d2e5",
       "version_major": 2,
       "version_minor": 0
      },
      "text/plain": [
       "IntSlider(value=5, description='Buildings', max=10)"
      ]
     },
     "metadata": {},
     "output_type": "display_data"
    },
    {
     "data": {
      "application/vnd.jupyter.widget-view+json": {
       "model_id": "4c4977f75ce5437688dbdbd211a9faf2",
       "version_major": 2,
       "version_minor": 0
      },
      "text/plain": [
       "Button(description='Run Simulation', style=ButtonStyle())"
      ]
     },
     "metadata": {},
     "output_type": "display_data"
    }
   ],
   "source": [
    "import numpy as np\n",
    "import matplotlib.pyplot as plt\n",
    "from mpl_toolkits.mplot3d import Axes3D\n",
    "import ipywidgets as widgets\n",
    "from IPython.display import display\n",
    "from scipy.spatial import ConvexHull\n",
    "\n",
    "# Function to simulate buildings\n",
    "def generate_buildings(num_buildings, area_size=(1000, 1000, 300)):\n",
    "    building_positions = np.random.rand(num_buildings, 2) * area_size[:2]  # Only X, Y coordinates\n",
    "    building_heights = np.random.rand(num_buildings) * area_size[2]  # Random heights for buildings\n",
    "    return building_positions, building_heights\n",
    "\n",
    "# Check if the line intersects any building (simple model)\n",
    "def check_los(gnb, uav, buildings, building_heights):\n",
    "    # A simple model: check if the line between gNB and UAV crosses any building in its path\n",
    "    for i, (pos, height) in enumerate(zip(buildings, building_heights)):\n",
    "        # Assuming buildings are simple obstacles on the ground with height at the center\n",
    "        x, y = pos\n",
    "        if min(gnb[0], uav[0]) <= x <= max(gnb[0], uav[0]) and min(gnb[1], uav[1]) <= y <= max(gnb[1], uav[1]):\n",
    "            # Basic height check to see if the building is between the gNB and UAV\n",
    "            if height > min(gnb[2], uav[2]):  # Check if building is taller than the line between gNB and UAV\n",
    "                return False  # NLOS\n",
    "    return True  # LOS\n",
    "\n",
    "def simulate_tracking(num_gnb, num_uav, num_buildings):\n",
    "    area_size = (1000, 1000, 300)\n",
    "    gnb_positions = np.random.rand(num_gnb, 3) * area_size\n",
    "    uav_positions = np.random.rand(num_uav, 3) * area_size\n",
    "\n",
    "    # Generate random buildings\n",
    "    buildings, building_heights = generate_buildings(num_buildings, area_size)\n",
    "\n",
    "    # Compute path loss\n",
    "    path_loss = np.zeros((num_gnb, num_uav))\n",
    "    for i in range(num_gnb):\n",
    "        for j in range(num_uav):\n",
    "            distance = np.linalg.norm(gnb_positions[i] - uav_positions[j])\n",
    "            path_loss[i, j] = 20 * np.log10(distance + 1e-6)\n",
    "\n",
    "    # Compute TOA values\n",
    "    speed_of_light = 3e8\n",
    "    toa_values = np.zeros((num_uav, num_gnb))\n",
    "    for i in range(num_uav):\n",
    "        for j in range(num_gnb):\n",
    "            distance = np.linalg.norm(gnb_positions[j] - uav_positions[i])\n",
    "            toa_values[i, j] = distance / speed_of_light\n",
    "\n",
    "    # 3D Visualization\n",
    "    fig = plt.figure(figsize=(10, 8))\n",
    "    ax = fig.add_subplot(111, projection='3d')\n",
    "    \n",
    "    # Plot gNB and UAV positions\n",
    "    ax.scatter(gnb_positions[:, 0], gnb_positions[:, 1], gnb_positions[:, 2], c='r', marker='o', label='gNB')\n",
    "    ax.scatter(uav_positions[:, 0], uav_positions[:, 1], uav_positions[:, 2], c='b', marker='^', label='UAV')\n",
    "\n",
    "    # Plot buildings as cubes in the 3D space\n",
    "    for i in range(num_buildings):\n",
    "        ax.bar3d(buildings[i][0] - 10, buildings[i][1] - 10, 0, 20, 20, building_heights[i], color='gray', alpha=0.6)\n",
    "\n",
    "    # Plot connections between gNB and UAVs with LOS/NLOS check\n",
    "    for i in range(num_uav):\n",
    "        for j in range(num_gnb):\n",
    "            if check_los(gnb_positions[j], uav_positions[i], buildings, building_heights):\n",
    "                ax.plot([gnb_positions[j, 0], uav_positions[i, 0]],\n",
    "                        [gnb_positions[j, 1], uav_positions[i, 1]],\n",
    "                        [gnb_positions[j, 2], uav_positions[i, 2]], 'g', linestyle='-', label='LOS')\n",
    "            else:\n",
    "                ax.plot([gnb_positions[j, 0], uav_positions[i, 0]],\n",
    "                        [gnb_positions[j, 1], uav_positions[i, 1]],\n",
    "                        [gnb_positions[j, 2], uav_positions[i, 2]], 'r', linestyle='--', label='NLOS')\n",
    "\n",
    "    ax.set_xlabel('X (m)')\n",
    "    ax.set_ylabel('Y (m)')\n",
    "    ax.set_zlabel('Z (m)')\n",
    "    ax.set_title('3D Visualization of UAV Tracking with LOS/NLOS')\n",
    "    ax.legend(loc='best')\n",
    "    plt.show()\n",
    "\n",
    "    # Error Plots\n",
    "    time_steps = np.arange(len(toa_values))\n",
    "    x_error_instant = np.random.randn(len(time_steps))\n",
    "    x_error_tracked = np.random.randn(len(time_steps)) * 0.5\n",
    "    y_error_instant = np.random.randn(len(time_steps))\n",
    "    y_error_tracked = np.random.randn(len(time_steps)) * 0.5\n",
    "    z_error_instant = np.random.randn(len(time_steps))\n",
    "    z_error_tracked = np.random.randn(len(time_steps)) * 0.5\n",
    "\n",
    "    fig, axes = plt.subplots(3, 1, figsize=(10, 8))\n",
    "    axes[0].plot(time_steps, x_error_instant, label='Raw', linewidth=1)\n",
    "    axes[0].plot(time_steps, x_error_tracked, label='Tracked', linewidth=1)\n",
    "    axes[0].set_xlabel(\"Time step\")\n",
    "    axes[0].set_ylabel(\"X Error (m)\")\n",
    "    axes[0].grid(True)\n",
    "    axes[0].legend()\n",
    "\n",
    "    axes[1].plot(time_steps, y_error_instant, label='Raw', linewidth=1)\n",
    "    axes[1].plot(time_steps, y_error_tracked, label='Tracked', linewidth=1)\n",
    "    axes[1].set_xlabel(\"Time step\")\n",
    "    axes[1].set_ylabel(\"Y Error (m)\")\n",
    "    axes[1].grid(True)\n",
    "    axes[1].legend()\n",
    "\n",
    "    axes[2].plot(time_steps, z_error_instant, label='Raw', linewidth=1)\n",
    "    axes[2].plot(time_steps, z_error_tracked, label='Tracked', linewidth=1)\n",
    "    axes[2].set_xlabel(\"Time step\")\n",
    "    axes[2].set_ylabel(\"Z Error (m)\")\n",
    "    axes[2].grid(True)\n",
    "    axes[2].legend()\n",
    "\n",
    "    plt.tight_layout()\n",
    "    plt.show()\n",
    "\n",
    "num_gnb_slider = widgets.IntSlider(min=1, max=10, value=5, description='gNBs')\n",
    "num_uav_slider = widgets.IntSlider(min=1, max=10, value=3, description='UAVs')\n",
    "num_buildings_slider = widgets.IntSlider(min=0, max=10, value=5, description='Buildings')\n",
    "run_button = widgets.Button(description='Run Simulation')\n",
    "\n",
    "def on_run_button_clicked(b):\n",
    "    simulate_tracking(num_gnb_slider.value, num_uav_slider.value, num_buildings_slider.value)\n",
    "\n",
    "run_button.on_click(on_run_button_clicked)\n",
    "display(num_gnb_slider, num_uav_slider, num_buildings_slider, run_button)\n"
   ]
  },
  {
   "cell_type": "markdown",
   "id": "f468714f-2e64-4036-b193-54dad8e770a3",
   "metadata": {},
   "source": [
    "# Notes on UAV Tracking Simulation\n",
    "\n",
    "In this section, we simulate the tracking of UAVs and their communication with gNBs. The key concepts are:\n",
    "\n",
    "- **Line-of-Sight (LOS)**: A direct connection between gNB and UAV without any obstruction.\n",
    "- **Non-Line-of-Sight (NLOS)**: A connection is obstructed by buildings or other obstacles.\n",
    "\n",
    "### Key Variables:\n",
    "1. **gNB Positions**: The location of the gNBs in 3D space.\n",
    "2. **UAV Positions**: The location of UAVs in 3D space.\n",
    "\n",
    "### Path Loss Calculation:\n",
    "The path loss is computed using the following formula:\n",
    "PL = 20 * log10(distance)\n"
   ]
  },
  {
   "cell_type": "markdown",
   "id": "93d5fa0b-5025-4b24-b269-cbaa8789ec98",
   "metadata": {},
   "source": [
    "# Generate Positions for gNBs and UAVs\n",
    "**get_gnb_and_uav_positions(num_gnb, num_uav, area_size): Randomly generates positions for gNBs and UAVs within a defined area**.\n",
    "\n",
    "# Generate a Simple 5G Signal Waveform\n",
    "**generate_tx_waveform(carrier, prs, num_gnb, num_uav): Creates a simulated waveform using a sine wave to represent the 5G signal**.\n",
    "\n",
    "# Compute Path Loss\n",
    "**compute_path_loss(gnb_positions, uav_positions): Calculates the signal loss based on the distance between each gNB and UAV using a basic logarithmic model**.\n",
    "\n",
    "# Estimate Time of Arrival (TOA)\n",
    "**estimate_toa_values(gnb_positions, uav_positions): Computes TOA values for each UAV-gNB pair based on signal travel time**.\n",
    "\n",
    "# Convert TOA to TDOA\n",
    "**.assemble_toa_detection(toa_info, gnb_truth, time): Collects TOA measurements**..\n",
    "\n",
    "# convert_toa_to_tdoa_detections(toa_detections): Converts TOA to Time Difference of Arrival (TDOA) by using the first gNB as a reference.\n",
    "\n",
    "# Estimate UAV Position from TDOA\n",
    "**.convert_tdoa_to_pos(tdoa_detections): Simulates position estimations based on TDOA detections.**.\n",
    "\n",
    "# Tracking UAVs Over Time\n",
    "**.tracker(position_detections, time): Simulates a tracking system that processes UAV position estimates.**.\n",
    "\n",
    "# 3D Visualization\n",
    "**.A 3D scatter plot displays the positions of gNBs (red circles) and UAVs (blue triangles).\n",
    "Lines connect each UAV to multiple gNBs, representing signal paths.**.\n",
    "\n",
    "# Error Plots\n",
    "**.Three subplots visualize the X, Y, and Z coordinate errors over time.\n",
    "Two curves: \"Raw\" (initial estimate) vs. \"Tracked\" (filtered estimate).**.\n",
    "\n",
    "# Purpose\n",
    "**.This simulation helps in understanding how UAVs can be tracked using 5G networks by estimating their positions through TOA/TDOA methods.**.\n",
    "\n"
   ]
  }
 ],
 "metadata": {
  "kernelspec": {
   "display_name": "Python 3 (ipykernel)",
   "language": "python",
   "name": "python3"
  },
  "language_info": {
   "codemirror_mode": {
    "name": "ipython",
    "version": 3
   },
   "file_extension": ".py",
   "mimetype": "text/x-python",
   "name": "python",
   "nbconvert_exporter": "python",
   "pygments_lexer": "ipython3",
   "version": "3.11.5"
  }
 },
 "nbformat": 4,
 "nbformat_minor": 5
}
